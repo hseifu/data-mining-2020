{
 "cells": [
  {
   "cell_type": "code",
   "execution_count": null,
   "metadata": {
    "colab": {
     "base_uri": "https://localhost:8080/",
     "height": 34
    },
    "colab_type": "code",
    "id": "Rg29HPaZhfIv",
    "outputId": "219be1a1-e345-4e35-81f2-d4742aaff0a9"
   },
   "outputs": [],
   "source": [
    "import matplotlib.pyplot as plt\n",
    "%matplotlib inline\n",
    "import numpy as np\n",
    "import pandas as pd\n",
    "from pandas import read_csv\n",
    "import multiprocessing\n",
    "import os\n",
    "import matplotlib.pyplot as plt\n",
    "import seglearn\n",
    "from sys import getsizeof\n",
    "from scipy.stats import entropy, iqr, kurtosis\n",
    "from scipy.stats.stats import pearsonr\n",
    "from IPython.display import display\n",
    "from ipywidgets import IntProgress\n",
    "import time\n",
    "from sklearn.preprocessing import MinMaxScaler\n",
    "from sklearn.model_selection import train_test_split, KFold\n",
    "from sklearn.neural_network import MLPClassifier\n",
    "from sklearn.metrics import accuracy_score,r2_score\n",
    "from sklearn.decomposition import PCA\n",
    "from sklearn.linear_model import LinearRegression\n",
    "from sklearn.svm import SVC\n",
    "from scipy.fftpack import fft\n",
    "from scipy.signal import find_peaks\n",
    "import random\n",
    "from keras.layers import *\n",
    "from keras.models import Model, Sequential\n",
    "from keras.datasets import mnist\n",
    "from keras.utils import to_categorical\n",
    "from numpy.linalg import norm"
   ]
  },
  {
   "cell_type": "code",
   "execution_count": null,
   "metadata": {
    "colab": {},
    "colab_type": "code",
    "id": "GncZPGZEqQ7F"
   },
   "outputs": [],
   "source": [
    "project_dir = \"~/School/bbdc/\""
   ]
  },
  {
   "cell_type": "markdown",
   "metadata": {
    "colab_type": "text",
    "id": "NFvPWM4npCti"
   },
   "source": [
    "## Load trained labels"
   ]
  },
  {
   "cell_type": "code",
   "execution_count": null,
   "metadata": {
    "colab": {
     "base_uri": "https://localhost:8080/",
     "height": 221
    },
    "colab_type": "code",
    "id": "LGT0d8EagiJ9",
    "outputId": "ec6479f0-d353-4c83-be80-bb0c40f2e58f"
   },
   "outputs": [],
   "source": [
    "labels = read_csv(project_dir+\"train/labels.train.csv\", header=None)\n",
    "labels.columns = [\"Subject\", \"Start\", \"End\", \"Action\"]\n",
    "print(labels.shape)\n",
    "labels.head()"
   ]
  },
  {
   "cell_type": "code",
   "execution_count": null,
   "metadata": {
    "colab": {},
    "colab_type": "code",
    "id": "SP5KIJhSgom0"
   },
   "outputs": [],
   "source": [
    "filenames = sorted(list(set([x.split(\".\")[0] for x in labels.Subject])))\n",
    "filenames_test = [\"s06t01\",\"s06t02\",\"s06t03\",\"s06t04\",\"s06t05\"]"
   ]
  },
  {
   "cell_type": "code",
   "execution_count": null,
   "metadata": {
    "colab": {},
    "colab_type": "code",
    "id": "E-w2c0x4Fgfc"
   },
   "outputs": [],
   "source": [
    "label_mapping = {\n",
    "    \"la-object-pick\": 0,\n",
    "    \"ra-object-pick\": 0,\n",
    "    \"la-object-carry\": 1,\n",
    "    \"ra-object-carry\": 1,\n",
    "    \"la-object-place\": 2,\n",
    "    \"ra-object-place\": 2,\n",
    "    \"la-object-switch-hands\": 3,\n",
    "    \"ra-object-switch-hands\": 3,\n",
    "    \"la-object-orient\": 4,\n",
    "    \"ra-object-orient\": 4,\n",
    "    \"la-nothing\": 5,\n",
    "    \"ra-nothing\": 5\n",
    "}\n",
    "inverted_label_mapping_left = {\n",
    "    0: \"la-object-pick\",\n",
    "    1: \"la-object-carry\",\n",
    "    2: \"la-object-place\",\n",
    "    3: \"la-object-switch-hands\",\n",
    "    4: \"la-object-orient\",\n",
    "    5: \"la-nothing\"\n",
    "}\n",
    "inverted_label_mapping_right = {\n",
    "    0: \"ra-object-pick\",\n",
    "    1: \"ra-object-carry\",\n",
    "    2: \"ra-object-place\",\n",
    "    3: \"ra-object-switch-hands\",\n",
    "    4: \"ra-object-orient\",\n",
    "    5: \"ra-nothing\"\n",
    "}\n",
    "emg_positions = [\"fa-o-t-r\",\"fa-i-t-r\",\"fa-i-b-r\",\"fa-o-b-r\",\"fa-o-t-l\",\"fa-i-t-l\",\"fa-i-b-l\",\"fa-o-b-l\"]"
   ]
  },
  {
   "cell_type": "code",
   "execution_count": null,
   "metadata": {
    "colab": {},
    "colab_type": "code",
    "id": "bJTbFYwG9psH"
   },
   "outputs": [],
   "source": [
    "def load_all_emg_data(filenames,train=True):\n",
    "    emg_datasets = []\n",
    "    if train:\n",
    "        subdir = \"train/\"\n",
    "    else:\n",
    "        subdir = \"test/\"\n",
    "\n",
    "    lengths = []\n",
    "    f = IntProgress(min=0, max=len(filenames)-1)\n",
    "    display(f)\n",
    "\n",
    "    for i in range(len(filenames)):\n",
    "        f.value += 1\n",
    "        file_df = (pd.read_csv(project_dir+subdir+\"emg/\"+filenames[i]+\".emg.csv\"))\n",
    "        emg_datasets.append(file_df)\n",
    "        lengths.append(file_df.shape[0])\n",
    "\n",
    "    emg_df = pd.concat(emg_datasets, ignore_index=True)\n",
    "    print(emg_df.shape)\n",
    "    return emg_df,lengths\n"
   ]
  },
  {
   "cell_type": "code",
   "execution_count": null,
   "metadata": {
    "colab": {},
    "colab_type": "code",
    "id": "8NXbKR4alUZ_"
   },
   "outputs": [],
   "source": [
    "def load_all_mocap_data(filenames,train=True):\n",
    "    mocap_datasets = []\n",
    "    if train:\n",
    "        subdir = \"train/\"\n",
    "    else:\n",
    "        subdir = \"test/\"\n",
    "\n",
    "    lengths = []\n",
    "    f = IntProgress(min=0, max=len(filenames)-1)\n",
    "    display(f)\n",
    "\n",
    "    for i in range(len(filenames)):\n",
    "        f.value += 1\n",
    "        file_df = (pd.read_csv(project_dir+subdir+\"mocap/\"+filenames[i]+\".mocap.csv\"))\n",
    "        mocap_datasets.append(file_df)\n",
    "        lengths.append(file_df.shape[0])\n",
    "\n",
    "    mocap_df = pd.concat(mocap_datasets, ignore_index=True)\n",
    "    print(mocap_df.shape)\n",
    "    return mocap_df,lengths\n"
   ]
  },
  {
   "cell_type": "code",
   "execution_count": null,
   "metadata": {
    "colab": {},
    "colab_type": "code",
    "id": "heDgiKlkcO90"
   },
   "outputs": [],
   "source": [
    "# Source: https://stackoverflow.com/questions/15722324/sliding-window-of-m-by-n-shape-numpy-ndarray\n",
    "def window_stack(a, stepratio=1, width=5):\n",
    "    # Step ratio is how much should consecutive windows overlap\n",
    "    stepsize = int(stepratio*width)\n",
    "    n = a.shape[0]\n",
    "    return np.dstack( a[i:1+n+i-width:stepsize] for i in range(0,width) )"
   ]
  },
  {
   "cell_type": "code",
   "execution_count": null,
   "metadata": {
    "colab": {},
    "colab_type": "code",
    "id": "PLkoYSvumm0h"
   },
   "outputs": [],
   "source": [
    "def labeler(X,y,X_test=None,y_test=None):\n",
    "    if X_test == None and y_test == None:\n",
    "        print(\"No validation dataset passed, generating from given dataset\")\n",
    "        X_train, X_test, y_train, y_test = train_test_split(X,y,test_size=0.25)\n",
    "    else:\n",
    "        X_train = X\n",
    "        y_train = y        \n",
    "    n_timesteps,n_features,n_outputs = X.shape[1], X.shape[2], y.shape[1]\n",
    "\n",
    "    model = Sequential()\n",
    "    model.add(Bidirectional(LSTM(512, input_shape=(n_timesteps,n_features))))\n",
    "    # model.add(LSTM(512, input_shape=(n_timesteps,n_features)))\n",
    "    model.add(Dense(256, activation='relu'))\n",
    "    model.add(Dense(128, activation='relu'))\n",
    "    model.add(Dense(n_outputs, activation='softmax'))\n",
    "    \n",
    "    model.compile(loss='categorical_crossentropy', optimizer='adam', metrics=['accuracy'])\n",
    "    model.fit(X_train, y_train,\n",
    "                        epochs=10,\n",
    "                        batch_size=128,\n",
    "                        shuffle=False,\n",
    "                        validation_data=(X_test, y_test))\n",
    "    return model"
   ]
  },
  {
   "cell_type": "code",
   "execution_count": null,
   "metadata": {
    "colab": {},
    "colab_type": "code",
    "id": "l2nD5iUti0_g"
   },
   "outputs": [],
   "source": [
    "def flat_labeler(X,y):\n",
    "    X_train, X_test, y_train, y_test = train_test_split(X,y,test_size=0.25)\n",
    "    n_features,n_outputs = X.shape[1], y.shape[1]\n",
    "\n",
    "    model = Sequential()\n",
    "    model.add(Dense(512, input_shape=(n_features,)))\n",
    "    model.add(Dense(256, activation='relu'))\n",
    "    model.add(Dense(128, activation='relu'))\n",
    "    model.add(Dense(n_outputs, activation='softmax'))\n",
    "    model.compile(loss='categorical_crossentropy', optimizer='adam', metrics=['accuracy'])\n",
    "\n",
    "    model.fit(X_train, y_train,\n",
    "                        epochs=5,\n",
    "                        batch_size=128,\n",
    "                        validation_data=(X_test, y_test))\n",
    "    return model"
   ]
  },
  {
   "cell_type": "code",
   "execution_count": null,
   "metadata": {
    "colab": {},
    "colab_type": "code",
    "id": "UcDXTG_1D8ZJ"
   },
   "outputs": [],
   "source": [
    "def load_test_data():\n",
    "    emg_df,lengths = load_all_emg_data(filenames=filenames_test,train=False)\n",
    "    emg_features = emg_df.drop([\"ts\"],axis=1) # We don't need the time stamp for feature extraction\n",
    "    # Normalize and offset negatives\n",
    "    for columnName, column in emg_features.iteritems():\n",
    "        if any(column<0):\n",
    "            column += abs(min(column))\n",
    "        emg_features[columnName] = column / column.max()\n",
    "    \n",
    "    emg_features_3d = window_stack(emg_features,stepratio=step_ratio,width=window_size)\n",
    "    emg_features_3d = np.transpose(emg_features_3d, (0, 2, 1))\n",
    "    print(emg_features_3d.shape)\n",
    "    return emg_features_3d\n",
    "\n",
    "    "
   ]
  },
  {
   "cell_type": "code",
   "execution_count": null,
   "metadata": {
    "colab": {},
    "colab_type": "code",
    "id": "xvXO2Hl56-JD"
   },
   "outputs": [],
   "source": [
    "def load_test_data_mocap():\n",
    "    mocap_df,lengths = load_all_mocap_data(filenames=filenames_test,train=False)\n",
    "    mocap_features = mocap_df.drop([\"ts\"],axis=1) # We don't need the time stamp for feature extraction\n",
    "    mocap_features = mocap_features.values\n",
    "    nans, x= np.isnan(mocap_features), lambda z: z.nonzero()[0]\n",
    "    mocap_features[nans]= np.interp(x(nans), x(~nans), mocap_features[~nans])\n",
    "    mocap_features = pd.DataFrame(mocap_features)\n",
    "    # Normalize and offset negatives\n",
    "    for columnName, column in mocap_features.iteritems():\n",
    "        if any(column<0):\n",
    "            column += abs(min(column))\n",
    "        mocap_features[columnName] = column / column.max()\n",
    "    \n",
    "    \n",
    "    mocap_features_3d = window_stack(mocap_features,stepratio=step_ratio,width=window_size)\n",
    "    mocap_features_3d = np.transpose(mocap_features_3d, (0, 2, 1))\n",
    "    print(mocap_features_3d.shape,mocap_features.shape)\n",
    "    return mocap_features_3d,lengths,mocap_features.values,mocap_df\n"
   ]
  },
  {
   "cell_type": "code",
   "execution_count": null,
   "metadata": {
    "colab": {
     "base_uri": "https://localhost:8080/",
     "height": 255
    },
    "colab_type": "code",
    "id": "DL8ejfBxGMtY",
    "outputId": "a3f93896-761e-452e-eb61-7f4922b508d1"
   },
   "outputs": [],
   "source": [
    "labels_test = read_csv(project_dir+\"test/labels_test.csv\",header=None)\n",
    "labels_test.head"
   ]
  },
  {
   "cell_type": "markdown",
   "metadata": {
    "colab_type": "text",
    "id": "efMUQVNZiiE_"
   },
   "source": [
    "## Parameters and Constants"
   ]
  },
  {
   "cell_type": "code",
   "execution_count": null,
   "metadata": {
    "colab": {},
    "colab_type": "code",
    "id": "c3r-UFmFikhN"
   },
   "outputs": [],
   "source": [
    "# Constants\n",
    "frequency = 600\n",
    "\n",
    "# Parameters\n",
    "window_size = frequency // 8 ## Samples per window\n",
    "step_ratio = 0.2 ## Size of overlap from one window to another"
   ]
  },
  {
   "cell_type": "markdown",
   "metadata": {
    "colab_type": "text",
    "id": "oj2B6BzjmfUV"
   },
   "source": [
    "# Train on EMG data"
   ]
  },
  {
   "cell_type": "markdown",
   "metadata": {
    "colab_type": "text",
    "id": "K3NKLttaklLs"
   },
   "source": [
    "### Load labeled datasets"
   ]
  },
  {
   "cell_type": "code",
   "execution_count": null,
   "metadata": {
    "colab": {
     "base_uri": "https://localhost:8080/",
     "height": 66,
     "referenced_widgets": [
      "ba27d831288944efa6b4d0e3225acf32",
      "78bec4d7416a40fc8b7586d8111f9207",
      "95ac5bd3a74d46d286faea50a4480b93"
     ]
    },
    "colab_type": "code",
    "id": "2KY-YX2EdfqS",
    "outputId": "63db1abb-4d54-4f05-aac5-1b609274e2d5"
   },
   "outputs": [],
   "source": [
    "emg_df,lengths = load_all_emg_data(filenames=filenames)"
   ]
  },
  {
   "cell_type": "code",
   "execution_count": null,
   "metadata": {
    "colab": {
     "base_uri": "https://localhost:8080/",
     "height": 34
    },
    "colab_type": "code",
    "id": "BQ6fCv4UeHpP",
    "outputId": "bcb31e08-b482-4487-a346-ace88465764b"
   },
   "outputs": [],
   "source": [
    "emg_features = emg_df.drop([\"ts\",\"la\",\"ra\",\"la.1\",\"ra.1\"],axis=1) # We don't need the labels for feature extraction\n",
    "print(emg_features.shape)"
   ]
  },
  {
   "cell_type": "markdown",
   "metadata": {
    "colab_type": "text",
    "id": "2A7suu0BDT14"
   },
   "source": [
    "### Offset negative values and normalize"
   ]
  },
  {
   "cell_type": "code",
   "execution_count": null,
   "metadata": {
    "colab": {
     "base_uri": "https://localhost:8080/",
     "height": 153
    },
    "colab_type": "code",
    "id": "dsIWWQJgDSbW",
    "outputId": "861c42ef-dbc9-488d-f469-3f82d1d2a153"
   },
   "outputs": [],
   "source": [
    "for columnName, column in emg_features.iteritems():\n",
    "    print(type(column),columnName)\n",
    "    if any(column<0):\n",
    "        column += abs(min(column))\n",
    "    emg_features[columnName] = column / column.max()\n"
   ]
  },
  {
   "cell_type": "markdown",
   "metadata": {
    "colab_type": "text",
    "id": "4E7bOOHBn8XB"
   },
   "source": [
    "### Perform Window Sampling"
   ]
  },
  {
   "cell_type": "code",
   "execution_count": null,
   "metadata": {
    "colab": {
     "base_uri": "https://localhost:8080/",
     "height": 88
    },
    "colab_type": "code",
    "id": "WgeMgKWcj8JG",
    "outputId": "b8f4e42c-dac4-42e5-9017-0f21f2cc9172"
   },
   "outputs": [],
   "source": [
    "emg_features_3d = window_stack(emg_features,stepratio=step_ratio,width=window_size)\n",
    "# emg_features_3d = emg_features_3d.values\n",
    "emg_features_3d = np.transpose(emg_features_3d, (0, 2, 1))\n",
    "emg_features_3d.shape"
   ]
  },
  {
   "cell_type": "code",
   "execution_count": null,
   "metadata": {
    "colab": {
     "base_uri": "https://localhost:8080/",
     "height": 88
    },
    "colab_type": "code",
    "id": "e_-jJfELqKR7",
    "outputId": "1a0a2700-9b5d-4520-ff7a-5e1450a61ab0"
   },
   "outputs": [],
   "source": [
    "emg_features_flat = window_stack(emg_features,stepratio=step_ratio,width=window_size)\n",
    "emg_features_flat.shape"
   ]
  },
  {
   "cell_type": "markdown",
   "metadata": {
    "colab_type": "text",
    "id": "pPsNM5R3oVNJ"
   },
   "source": [
    "### Prepare labels\n",
    "Labels need to be in categorical manner, i.e. one hot encoded\n"
   ]
  },
  {
   "cell_type": "code",
   "execution_count": null,
   "metadata": {
    "colab": {},
    "colab_type": "code",
    "id": "4-zmub18pQ-Q"
   },
   "outputs": [],
   "source": [
    "la_emg = np.array(emg_df['la'].map(label_mapping))\n",
    "ra_emg = np.array(emg_df['ra'].map(label_mapping))"
   ]
  },
  {
   "cell_type": "code",
   "execution_count": null,
   "metadata": {
    "colab": {},
    "colab_type": "code",
    "id": "DP52ZkJitFeB"
   },
   "outputs": [],
   "source": [
    "start_index = 0\n",
    "la_window_emg = []\n",
    "ra_window_emg = []\n",
    "# Iterate over each window and set the label based on the action that takes place the most\n",
    "for i in range(1,emg_features_3d.shape[0]+2):\n",
    "    end_index = int(min([window_size * step_ratio * i, emg_df.shape[0]]))\n",
    "\n",
    "    count_l = np.bincount(la_emg[start_index:end_index])\n",
    "    count_r = np.bincount(ra_emg[start_index:end_index])\n",
    "\n",
    "    la_window_emg.append(np.argmax(count_l))\n",
    "    ra_window_emg.append(np.argmax(count_r))\n",
    "    start_index = end_index\n",
    "\n",
    "la_window_emg = np.array(la_window_emg)\n",
    "ra_window_emg = np.array(ra_window_emg)"
   ]
  },
  {
   "cell_type": "code",
   "execution_count": null,
   "metadata": {
    "colab": {
     "base_uri": "https://localhost:8080/",
     "height": 34
    },
    "colab_type": "code",
    "id": "RuSnlu5uvVUU",
    "outputId": "750eb515-b7e0-444b-e3dd-aedd26df653b"
   },
   "outputs": [],
   "source": [
    "la_window_emg = la_window_emg[:emg_features_3d.shape[0]]\n",
    "ra_window_emg = ra_window_emg[:emg_features_3d.shape[0]]\n",
    "ra_window_emg.shape, la_window_emg.shape"
   ]
  },
  {
   "cell_type": "code",
   "execution_count": null,
   "metadata": {
    "colab": {},
    "colab_type": "code",
    "id": "lmhC32qkrqsK"
   },
   "outputs": [],
   "source": [
    "la_categorical_emg = to_categorical(la_window_emg)\n",
    "ra_categorical_emg = to_categorical(ra_window_emg)\n"
   ]
  },
  {
   "cell_type": "markdown",
   "metadata": {
    "colab_type": "text",
    "id": "8xwDAef1pTDh"
   },
   "source": [
    "### Train labeling model"
   ]
  },
  {
   "cell_type": "code",
   "execution_count": null,
   "metadata": {
    "colab": {
     "base_uri": "https://localhost:8080/",
     "height": 1000
    },
    "colab_type": "code",
    "id": "lrUgcNvasIuq",
    "outputId": "9e027acc-a18a-453d-f53f-d02398d89b54"
   },
   "outputs": [],
   "source": [
    "right_model_emg = labeler(emg_features_3d,ra_categorical_emg)"
   ]
  },
  {
   "cell_type": "code",
   "execution_count": null,
   "metadata": {
    "colab": {
     "base_uri": "https://localhost:8080/",
     "height": 68
    },
    "colab_type": "code",
    "id": "OCvuX1f40_5G",
    "outputId": "d57263f6-46cd-46b1-86bd-e264fd01eb55"
   },
   "outputs": [],
   "source": [
    "left_model_emg = labeler(emg_features_3d,la_categorical_emg)"
   ]
  },
  {
   "cell_type": "markdown",
   "metadata": {
    "colab_type": "text",
    "id": "7woWS5wQpQlX"
   },
   "source": [
    "### Predict training labels"
   ]
  },
  {
   "cell_type": "code",
   "execution_count": null,
   "metadata": {
    "colab": {
     "base_uri": "https://localhost:8080/",
     "height": 238
    },
    "colab_type": "code",
    "id": "nbos2_gBB_Y-",
    "outputId": "ad65aef9-11b9-4a87-b21e-43e5f7f628cc"
   },
   "outputs": [],
   "source": [
    "left_actions_pred_emg = left_model_emg.predict(emg_features_3d)\n",
    "right_actions_pred_emg = right_model_emg.predict(emg_features_3d)\n",
    "\n",
    "print(left_actions_pred_emg.shape,right_actions_pred_emg.shape)"
   ]
  },
  {
   "cell_type": "code",
   "execution_count": null,
   "metadata": {
    "colab": {},
    "colab_type": "code",
    "id": "VnJGw87aC1wr"
   },
   "outputs": [],
   "source": [
    "left_actions_pred_mapped_emg = np.argmax(left_actions_pred_emg,axis=1)\n",
    "right_actions_pred_mapped_emg = np.argmax(right_actions_pred,axis=1)\n"
   ]
  },
  {
   "cell_type": "markdown",
   "metadata": {
    "colab_type": "text",
    "id": "XQ3Ifpq6pqXz"
   },
   "source": [
    "### Get training accuracy"
   ]
  },
  {
   "cell_type": "code",
   "execution_count": null,
   "metadata": {
    "colab": {
     "base_uri": "https://localhost:8080/",
     "height": 51
    },
    "colab_type": "code",
    "id": "_oh98-jGDqFw",
    "outputId": "9686acd4-bb35-4c01-811b-0fb052bd767e"
   },
   "outputs": [],
   "source": [
    "display(\n",
    "        accuracy_score(left_actions_pred_mapped_emg,la_window_emg),\n",
    "        accuracy_score(right_actions_pred_mapped_emg,ra_window_emg)\n",
    ")"
   ]
  },
  {
   "cell_type": "markdown",
   "metadata": {
    "colab_type": "text",
    "id": "sXxu9-Y4FEun"
   },
   "source": [
    "### Load test data"
   ]
  },
  {
   "cell_type": "code",
   "execution_count": null,
   "metadata": {
    "colab": {
     "base_uri": "https://localhost:8080/",
     "height": 137,
     "referenced_widgets": [
      "4210ea022ddc48459aa48a46ee6f6c81",
      "5923c86b94084a159e06c331a9e07586",
      "ef74fee0003b48a9ab753c96745dee51"
     ]
    },
    "colab_type": "code",
    "id": "RPGTu611FDyk",
    "outputId": "722a2b15-6293-4bdc-a7cb-ae77673cb8a5"
   },
   "outputs": [],
   "source": [
    "emg_features_3d_test = load_test_data()"
   ]
  },
  {
   "cell_type": "markdown",
   "metadata": {
    "colab_type": "text",
    "id": "NYMwe__Rp5Pn"
   },
   "source": [
    "### Predict on test data"
   ]
  },
  {
   "cell_type": "code",
   "execution_count": null,
   "metadata": {
    "colab": {
     "base_uri": "https://localhost:8080/",
     "height": 238
    },
    "colab_type": "code",
    "id": "sUGyLhU-Hy35",
    "outputId": "b7e0d5ba-637c-4094-8990-08ce0f1acbcf"
   },
   "outputs": [],
   "source": [
    "left_actions_pred_test_emg = left_model_emg.predict(emg_features_3d_test)\n",
    "right_actions_pred_test_emg = right_model_emg.predict(emg_features_3d_test)\n"
   ]
  },
  {
   "cell_type": "code",
   "execution_count": null,
   "metadata": {
    "colab": {
     "base_uri": "https://localhost:8080/",
     "height": 34
    },
    "colab_type": "code",
    "id": "N7ymJEcFIKh3",
    "outputId": "2c681c42-5dd0-445c-d7a4-cb611b3077af"
   },
   "outputs": [],
   "source": [
    "left_actions_pred_mapped_test_emg = np.argmax(left_actions_pred_test_emg,axis=1)\n",
    "right_actions_pred_mapped_test_emg = np.argmax(right_actions_pred_test_emg,axis=1)\n",
    "left_actions_pred_mapped_test_emg,right_actions_pred_mapped_test_emg"
   ]
  },
  {
   "cell_type": "markdown",
   "metadata": {
    "colab_type": "text",
    "id": "vilJylz1qJoP"
   },
   "source": [
    "### Parse predictions for output"
   ]
  },
  {
   "cell_type": "code",
   "execution_count": null,
   "metadata": {
    "colab": {},
    "colab_type": "code",
    "id": "Pqg8uSs0J8PG"
   },
   "outputs": [],
   "source": [
    "final_result = np.vstack((np.vectorize(inverted_label_mapping_left.get)(left_actions_pred_mapped_test),np.vectorize(inverted_label_mapping_right.get)(right_actions_pred_mapped_test)))\n",
    "final_result = final_result.T"
   ]
  },
  {
   "cell_type": "code",
   "execution_count": null,
   "metadata": {
    "colab": {
     "base_uri": "https://localhost:8080/",
     "height": 34
    },
    "colab_type": "code",
    "id": "1MehiLqNLq0T",
    "outputId": "1f12ae7a-5db0-41e4-b42e-34ce2c710ca3"
   },
   "outputs": [],
   "source": [
    "final_result.shape"
   ]
  },
  {
   "cell_type": "code",
   "execution_count": null,
   "metadata": {
    "colab": {},
    "colab_type": "code",
    "id": "Cl_yg7TYMgsS"
   },
   "outputs": [],
   "source": [
    "df = pd.DataFrame(final_result,columns=[\"la\",\"ra\"])\n",
    "df.to_csv(project_dir+\"final_predictions.csv\")"
   ]
  },
  {
   "cell_type": "markdown",
   "metadata": {
    "colab_type": "text",
    "id": "PwCsCyjAI8bx"
   },
   "source": [
    "# Train on MoCap features"
   ]
  },
  {
   "cell_type": "code",
   "execution_count": null,
   "metadata": {
    "colab": {
     "base_uri": "https://localhost:8080/",
     "height": 66,
     "referenced_widgets": [
      "4f59d12c7bb84084beea95a05faef227",
      "8d028333a4a3437fafdd1a7f9a56cf98",
      "a66533046a0346218634ae09e8c718a1"
     ]
    },
    "colab_type": "code",
    "id": "3ehHuRB1mPzW",
    "outputId": "f1dc559f-03cc-4f65-d390-bb8bb433f252"
   },
   "outputs": [],
   "source": [
    "mocap_df,lengths = load_all_mocap_data(filenames=filenames)"
   ]
  },
  {
   "cell_type": "code",
   "execution_count": null,
   "metadata": {
    "colab": {
     "base_uri": "https://localhost:8080/",
     "height": 34
    },
    "colab_type": "code",
    "id": "7KsPQrlbmPzc",
    "outputId": "e16da7fb-bace-4e5a-863f-557b837d3ed9"
   },
   "outputs": [],
   "source": [
    "mocap_features = mocap_df.drop([\"ts\",\"la\",\"ra\"],axis=1) # We don't need the labels for feature extraction\n",
    "print(mocap_features.shape)"
   ]
  },
  {
   "cell_type": "markdown",
   "metadata": {
    "colab_type": "text",
    "id": "x54RS_3vmPze"
   },
   "source": [
    "### Offset negative values and normalize"
   ]
  },
  {
   "cell_type": "code",
   "execution_count": null,
   "metadata": {
    "colab": {},
    "colab_type": "code",
    "id": "K38kM97tmPzf"
   },
   "outputs": [],
   "source": [
    "for columnName, column in mocap_features.iteritems():\n",
    "    if any(column<0):\n",
    "        column += abs(min(column))\n",
    "    mocap_features[columnName] = column / column.max()\n",
    "\n",
    "mocap_features = mocap_features.values\n",
    "nans, x= np.isnan(mocap_features), lambda z: z.nonzero()[0]\n",
    "mocap_features[nans]= np.interp(x(nans), x(~nans), mocap_features[~nans])"
   ]
  },
  {
   "cell_type": "markdown",
   "metadata": {
    "colab_type": "text",
    "id": "510E56k3mPzc"
   },
   "source": [
    "### Perform Window Sampling"
   ]
  },
  {
   "cell_type": "code",
   "execution_count": null,
   "metadata": {
    "colab": {
     "base_uri": "https://localhost:8080/",
     "height": 71
    },
    "colab_type": "code",
    "id": "Hbkam0jA3gIA",
    "outputId": "3dde558e-ed9a-4884-88c1-3bb220b06c48"
   },
   "outputs": [],
   "source": [
    "mocap_features_3d_subjects = []\n",
    "start_index = 0\n",
    "end_index = 0\n",
    "for i in lengths:\n",
    "    end_index += i\n",
    "    subject_3d = window_stack(mocap_features[start_index:end_index],stepratio=step_ratio,width=window_size)\n",
    "    mocap_features_3d_subjects.append(subject_3d)\n",
    "    start_index = end_index"
   ]
  },
  {
   "cell_type": "code",
   "execution_count": null,
   "metadata": {
    "colab": {
     "base_uri": "https://localhost:8080/",
     "height": 34
    },
    "colab_type": "code",
    "id": "g107c8N34Yk4",
    "outputId": "68ac364f-1272-498f-ca0e-3377a975b20d"
   },
   "outputs": [],
   "source": [
    "mocap_features_3d_subjects_train = np.transpose(np.vstack(mocap_features_3d_subjects[:-5]), (0,2,1))\n",
    "mocap_features_3d_subjects_test = np.transpose(np.vstack(mocap_features_3d_subjects[-5:]), (0,2,1))\n",
    "\n",
    "mocap_features_3d_subjects_train.shape,mocap_features_3d_subjects_test.shape"
   ]
  },
  {
   "cell_type": "code",
   "execution_count": null,
   "metadata": {
    "colab": {},
    "colab_type": "code",
    "id": "3JPs5M3F5d0X"
   },
   "outputs": [],
   "source": [
    "train_size = mocap_features_3d_subjects_train.shape[0]\n",
    "test_size = mocap_features_3d_subjects_test.shape[0]"
   ]
  },
  {
   "cell_type": "code",
   "execution_count": null,
   "metadata": {
    "colab": {
     "base_uri": "https://localhost:8080/",
     "height": 88
    },
    "colab_type": "code",
    "id": "JQlwScn6mPzh",
    "outputId": "462e3da7-9f08-4092-dc03-85cb4401442c"
   },
   "outputs": [],
   "source": [
    "mocap_features_3d = window_stack(mocap_features,stepratio=step_ratio,width=window_size)\n",
    "# mocap_features_3d = mocap_features_3d.values\n",
    "mocap_features_3d = np.transpose(mocap_features_3d, (0, 2, 1))\n",
    "mocap_features_3d.shape"
   ]
  },
  {
   "cell_type": "markdown",
   "metadata": {
    "colab_type": "text",
    "id": "d3u5lv9SsGCp"
   },
   "source": [
    "### Prepare labels\n",
    "Labels need to be in categorical manner, i.e. one hot encoded\n"
   ]
  },
  {
   "cell_type": "code",
   "execution_count": null,
   "metadata": {
    "colab": {},
    "colab_type": "code",
    "id": "Z5SRlLbSmPzm"
   },
   "outputs": [],
   "source": [
    "la_mocap = np.array(mocap_df['la'].map(label_mapping))\n",
    "ra_mocap = np.array(mocap_df['ra'].map(label_mapping))"
   ]
  },
  {
   "cell_type": "code",
   "execution_count": null,
   "metadata": {
    "colab": {},
    "colab_type": "code",
    "id": "6uybDePdmPzo"
   },
   "outputs": [],
   "source": [
    "start_index = 0\n",
    "la_window_mocap = []\n",
    "ra_window_mocap = []\n",
    "for i in range(1,mocap_features_3d.shape[0]+2):\n",
    "    end_index = int(min([int(window_size * step_ratio * i), mocap_df.shape[0]]))\n",
    "\n",
    "    count_l = np.bincount(la_mocap[start_index:end_index])\n",
    "    count_r = np.bincount(ra_mocap[start_index:end_index])\n",
    "\n",
    "    if len(count_l):\n",
    "        la_window_mocap.append(np.argmax(count_l))\n",
    "    if len(count_r):\n",
    "        ra_window_mocap.append(np.argmax(count_r))\n",
    "    start_index = end_index\n",
    "\n",
    "la_window_mocap = np.array(la_window_mocap)\n",
    "ra_window_mocap = np.array(ra_window_mocap)"
   ]
  },
  {
   "cell_type": "code",
   "execution_count": null,
   "metadata": {
    "colab": {
     "base_uri": "https://localhost:8080/",
     "height": 34
    },
    "colab_type": "code",
    "id": "lH1sWsK6pF40",
    "outputId": "b1fbd0cc-b426-481d-eac1-9b535fa9dcf7"
   },
   "outputs": [],
   "source": [
    "la_window_mocap.shape, la_mocap.shape, mocap_features_3d.shape, window_size * step_ratio * 11842"
   ]
  },
  {
   "cell_type": "code",
   "execution_count": null,
   "metadata": {
    "colab": {
     "base_uri": "https://localhost:8080/",
     "height": 34
    },
    "colab_type": "code",
    "id": "gPXlA7mmmPzq",
    "outputId": "4ff0826b-c0a6-424a-dc85-18118b21b411"
   },
   "outputs": [],
   "source": [
    "la_window_mocap = la_window_mocap[:mocap_features_3d.shape[0]]\n",
    "ra_window_mocap = ra_window_mocap[:mocap_features_3d.shape[0]]\n",
    "ra_window_mocap.shape, la_window_mocap.shape"
   ]
  },
  {
   "cell_type": "code",
   "execution_count": null,
   "metadata": {
    "colab": {},
    "colab_type": "code",
    "id": "3Yn5KBjnmPzs"
   },
   "outputs": [],
   "source": [
    "la_categorical_mocap = to_categorical(la_window_mocap)\n",
    "ra_categorical_mocap = to_categorical(ra_window_mocap)\n"
   ]
  },
  {
   "cell_type": "markdown",
   "metadata": {
    "colab_type": "text",
    "id": "eSDj-M_imPzm"
   },
   "source": [
    "### Train labeling model"
   ]
  },
  {
   "cell_type": "code",
   "execution_count": null,
   "metadata": {
    "colab": {},
    "colab_type": "code",
    "id": "pib5lCz37QgX"
   },
   "outputs": [],
   "source": [
    "la_categorical_mocap_train = la_categorical_mocap[:train_size]\n",
    "ra_categorical_mocap_train = ra_categorical_mocap[:train_size]\n",
    "la_categorical_mocap_test = la_categorical_mocap[train_size:]\n",
    "ra_categorical_mocap_test = ra_categorical_mocap[train_size:]\n"
   ]
  },
  {
   "cell_type": "code",
   "execution_count": null,
   "metadata": {
    "colab": {
     "base_uri": "https://localhost:8080/",
     "height": 34
    },
    "colab_type": "code",
    "id": "ZUhTJ8nR7r6B",
    "outputId": "ac69eebb-9fd2-477a-975a-e1156fca7ecb"
   },
   "outputs": [],
   "source": [
    "print(la_categorical_mocap_train.shape,\n",
    "ra_categorical_mocap_train.shape,\n",
    "la_categorical_mocap_test.shape,\n",
    "ra_categorical_mocap_test.shape)"
   ]
  },
  {
   "cell_type": "code",
   "execution_count": null,
   "metadata": {
    "colab": {
     "base_uri": "https://localhost:8080/",
     "height": 340
    },
    "colab_type": "code",
    "id": "kRuNDbwVFQe7",
    "outputId": "ddc30008-0d3b-4815-f0aa-f51b796b6603"
   },
   "outputs": [],
   "source": [
    "right_model_subjects_mocap = labeler(mocap_features_3d_subjects_train,ra_categorical_mocap_train,mocap_features_3d_subjects_test,ra_categorical_mocap_test)"
   ]
  },
  {
   "cell_type": "code",
   "execution_count": null,
   "metadata": {
    "colab": {
     "base_uri": "https://localhost:8080/",
     "height": 340
    },
    "colab_type": "code",
    "id": "zAx-fmkdF4Ek",
    "outputId": "ac5303a9-611c-438e-ea0e-1c250313a4ae"
   },
   "outputs": [],
   "source": [
    "left_model_subjects_mocap = labeler(mocap_features_3d_subjects_train,la_categorical_mocap_train,mocap_features_3d_subjects_test,la_categorical_mocap_test)"
   ]
  },
  {
   "cell_type": "code",
   "execution_count": null,
   "metadata": {
    "colab": {
     "base_uri": "https://localhost:8080/",
     "height": 391
    },
    "colab_type": "code",
    "id": "mqzH1OiLmPzu",
    "outputId": "5745f09a-3058-4821-85dd-3a27083acebc"
   },
   "outputs": [],
   "source": [
    "right_model = labeler(mocap_features_3d,ra_categorical_mocap)"
   ]
  },
  {
   "cell_type": "code",
   "execution_count": null,
   "metadata": {
    "colab": {
     "base_uri": "https://localhost:8080/",
     "height": 391
    },
    "colab_type": "code",
    "id": "_yV4qkzLmPzw",
    "outputId": "1006cf5d-00cc-4b76-fcbf-8dbc10d552d8"
   },
   "outputs": [],
   "source": [
    "left_model = labeler(mocap_features_3d,la_categorical_mocap)"
   ]
  },
  {
   "cell_type": "markdown",
   "metadata": {
    "colab_type": "text",
    "id": "jRdJKF3GsmYZ"
   },
   "source": [
    "### Predict on training features"
   ]
  },
  {
   "cell_type": "code",
   "execution_count": null,
   "metadata": {
    "colab": {
     "base_uri": "https://localhost:8080/",
     "height": 238
    },
    "colab_type": "code",
    "id": "YcovCCnvmPzy",
    "outputId": "1fecf95b-1cca-4058-d6a2-e68dad9c7e70"
   },
   "outputs": [],
   "source": [
    "left_actions_pred = left_model.predict(mocap_features_3d)\n",
    "right_actions_pred = right_model.predict(mocap_features_3d)\n"
   ]
  },
  {
   "cell_type": "code",
   "execution_count": null,
   "metadata": {
    "colab": {
     "base_uri": "https://localhost:8080/",
     "height": 34
    },
    "colab_type": "code",
    "id": "ivbEoHbumPz1",
    "outputId": "fe38312f-e6f6-486c-c91f-114b899cb45e"
   },
   "outputs": [],
   "source": [
    "left_actions_pred_mapped = np.argmax(left_actions_pred,axis=1)\n",
    "right_actions_pred_mapped = np.argmax(right_actions_pred,axis=1)"
   ]
  },
  {
   "cell_type": "code",
   "execution_count": null,
   "metadata": {
    "colab": {
     "base_uri": "https://localhost:8080/",
     "height": 34
    },
    "colab_type": "code",
    "id": "O-NuR1FemPz5",
    "outputId": "79a8b925-1f45-4ac9-e81d-1cacdf31c292"
   },
   "outputs": [],
   "source": [
    "accuracy_score(left_actions_pred_mapped,la_window_mocap),accuracy_score(right_actions_pred_mapped,ra_window_mocap)"
   ]
  },
  {
   "cell_type": "markdown",
   "metadata": {
    "colab_type": "text",
    "id": "7TUH7k047c7w"
   },
   "source": [
    "### Predict on test data"
   ]
  },
  {
   "cell_type": "code",
   "execution_count": null,
   "metadata": {
    "colab": {
     "base_uri": "https://localhost:8080/",
     "height": 137,
     "referenced_widgets": [
      "b051d99178e54c13bb7c13eda3f2472e",
      "e535de293f9740369532a54c7d226e66",
      "9565324d567545cb8e3e7dff2575532d"
     ]
    },
    "colab_type": "code",
    "id": "q7cHSKTi7c7x",
    "outputId": "f30f99af-f21f-4cbc-a23a-d49560b4950e"
   },
   "outputs": [],
   "source": [
    "mocap_features_3d_test,lengths_mocap_test,mocap_features_test,mocap_df_test    = load_test_data_mocap()"
   ]
  },
  {
   "cell_type": "code",
   "execution_count": null,
   "metadata": {
    "colab": {
     "base_uri": "https://localhost:8080/",
     "height": 238
    },
    "colab_type": "code",
    "id": "NG1JNTZw7c73",
    "outputId": "44f830a1-1b5a-4167-9c8f-ce1b2b27e2ae"
   },
   "outputs": [],
   "source": [
    "left_actions_pred_test = left_model.predict(mocap_features_3d_test)\n",
    "right_actions_pred_test = right_model.predict(mocap_features_3d_test)\n",
    "print(left_actions_pred_test.shape, right_actions_pred_test.shape)"
   ]
  },
  {
   "cell_type": "code",
   "execution_count": null,
   "metadata": {
    "colab": {
     "base_uri": "https://localhost:8080/",
     "height": 34
    },
    "colab_type": "code",
    "id": "gtAuIZUA7c77",
    "outputId": "1fc5ea76-9673-4f57-cdbe-926cb67c17ec"
   },
   "outputs": [],
   "source": [
    "left_actions_pred_mapped_test = np.argmax(left_actions_pred_test,axis=1)\n",
    "right_actions_pred_mapped_test = np.argmax(right_actions_pred_test,axis=1)\n",
    "left_actions_pred_mapped_test,right_actions_pred_mapped_test"
   ]
  },
  {
   "cell_type": "markdown",
   "metadata": {
    "colab_type": "text",
    "id": "jSEOlykYtOjK"
   },
   "source": [
    "### Parse predictions and output according to format"
   ]
  },
  {
   "cell_type": "code",
   "execution_count": null,
   "metadata": {
    "colab": {},
    "colab_type": "code",
    "id": "9Hasy1PK7c79"
   },
   "outputs": [],
   "source": [
    "final_result = np.vstack((np.vectorize(inverted_label_mapping_left.get)(left_actions_pred_mapped_test),np.vectorize(inverted_label_mapping_right.get)(right_actions_pred_mapped_test)))\n",
    "final_result = final_result.T"
   ]
  },
  {
   "cell_type": "code",
   "execution_count": null,
   "metadata": {
    "colab": {},
    "colab_type": "code",
    "id": "6PMZZNBZ7c8C"
   },
   "outputs": [],
   "source": [
    "df = pd.DataFrame(final_result,columns=[\"la\",\"ra\"])\n",
    "df.to_csv(project_dir+\"final_predictions.csv\")"
   ]
  },
  {
   "cell_type": "code",
   "execution_count": null,
   "metadata": {
    "colab": {
     "base_uri": "https://localhost:8080/",
     "height": 85
    },
    "colab_type": "code",
    "id": "hcl4nRVg9mDr",
    "outputId": "35b98282-952a-4367-f3f1-cf21b1b36c59"
   },
   "outputs": [],
   "source": [
    "cur_length_index = 0\n",
    "cur_length = lengths_mocap_test[cur_length_index]\n",
    "times = []\n",
    "file_names = []\n",
    "row_count = 0\n",
    "start_time = 0\n",
    "for row in final_result:\n",
    "    row_count += 1\n",
    "    file_names.append(\"s06t0\"+ str(cur_length_index+1))\n",
    "    if row_count * 15 > cur_length:\n",
    "        print(\"next file\")\n",
    "        row_count = 0\n",
    "        cur_length_index += 1\n",
    "        cur_length = lengths_mocap_test[cur_length_index]\n",
    "        end_time = round(2 / 300 * lengths_mocap_test[cur_length_index-1], 3)\n",
    "        times.append([start_time,end_time])\n",
    "        start_time = 0\n",
    "    else:\n",
    "        end_time = round(2 / 300 * row_count * 15, 3)\n",
    "        times.append([start_time,end_time])\n",
    "        start_time = end_time\n",
    "\n",
    "\n",
    "\n"
   ]
  },
  {
   "cell_type": "code",
   "execution_count": null,
   "metadata": {
    "colab": {
     "base_uri": "https://localhost:8080/",
     "height": 34
    },
    "colab_type": "code",
    "id": "9zScfK9K_sCS",
    "outputId": "148f424c-af72-4883-bb41-45675e40b15c"
   },
   "outputs": [],
   "source": [
    "final_final_result = np.concatenate([np.array(times),final_result],axis=1)\n",
    "final_final_result.shape"
   ]
  },
  {
   "cell_type": "code",
   "execution_count": null,
   "metadata": {
    "colab": {
     "base_uri": "https://localhost:8080/",
     "height": 153
    },
    "colab_type": "code",
    "id": "4EzKyzVScFns",
    "outputId": "a84c1f5f-9f8d-41e7-b10d-3775a51d5d05"
   },
   "outputs": [],
   "source": [
    "final_final_result = np.append(np.array(file_names).reshape(-1,1),final_final_result,axis=1)\n",
    "final_final_result"
   ]
  },
  {
   "cell_type": "code",
   "execution_count": null,
   "metadata": {
    "colab": {},
    "colab_type": "code",
    "id": "lzVU3XWcyIy_"
   },
   "outputs": [],
   "source": [
    "df = pd.DataFrame(final_final_result,columns=[\"subject1\",\"start\",\"stop\",\"la\",\"ra\"])\n",
    "df.to_csv(project_dir+\"final_final_predictions4.csv\")"
   ]
  },
  {
   "cell_type": "markdown",
   "metadata": {
    "colab_type": "text",
    "id": "hiUMe2WGkOKm"
   },
   "source": [
    "## No window sampling\n",
    "Predicts the action for measurements of a single time step"
   ]
  },
  {
   "cell_type": "code",
   "execution_count": null,
   "metadata": {
    "colab": {
     "base_uri": "https://localhost:8080/",
     "height": 164
    },
    "colab_type": "code",
    "id": "a550gkzgkF42",
    "outputId": "902d1252-9f2f-4dcc-e18b-97efa67ca721"
   },
   "outputs": [],
   "source": [
    "mocap_features = mocap_features.values\n",
    "mocap_features.shape"
   ]
  },
  {
   "cell_type": "code",
   "execution_count": null,
   "metadata": {
    "colab": {
     "base_uri": "https://localhost:8080/",
     "height": 34
    },
    "colab_type": "code",
    "id": "xerj-ceukM3_",
    "outputId": "de6a2186-1f0f-411e-9c6b-9576db3e9d1c"
   },
   "outputs": [],
   "source": [
    "la = np.array(mocap_df['la'].map(label_mapping))\n",
    "ra = np.array(mocap_df['ra'].map(label_mapping))\n",
    "la_categorical_flat = to_categorical(la)\n",
    "ra_categorical_flat = to_categorical(ra)\n",
    "la_categorical_flat.shape,ra_categorical_flat.shape"
   ]
  },
  {
   "cell_type": "code",
   "execution_count": null,
   "metadata": {
    "colab": {
     "base_uri": "https://localhost:8080/",
     "height": 204
    },
    "colab_type": "code",
    "id": "S28wyiLgkkNP",
    "outputId": "64c1766d-d5f5-4bad-a56f-7b0ff2f44a1d"
   },
   "outputs": [],
   "source": [
    "left_model_flat = flat_labeler(mocap_features,la_categorical_flat)"
   ]
  },
  {
   "cell_type": "code",
   "execution_count": null,
   "metadata": {
    "colab": {
     "base_uri": "https://localhost:8080/",
     "height": 204
    },
    "colab_type": "code",
    "id": "EqD_zEu8OjqD",
    "outputId": "72a00e85-44fd-4c06-8de9-9949e0b726cf"
   },
   "outputs": [],
   "source": [
    "right_model_flat = flat_labeler(mocap_features,ra_categorical_flat)"
   ]
  },
  {
   "cell_type": "code",
   "execution_count": null,
   "metadata": {
    "colab": {
     "base_uri": "https://localhost:8080/",
     "height": 238
    },
    "colab_type": "code",
    "id": "GqpRGraJSq9U",
    "outputId": "143550e8-8429-4f11-c36d-eab8ce496f3b"
   },
   "outputs": [],
   "source": [
    "left_actions_pred_flat = left_model_flat.predict(mocap_features)\n",
    "left_actions_pred_flat"
   ]
  },
  {
   "cell_type": "code",
   "execution_count": null,
   "metadata": {
    "colab": {
     "base_uri": "https://localhost:8080/",
     "height": 238
    },
    "colab_type": "code",
    "id": "wp42TFbxSq9a",
    "outputId": "c5a0a167-9f00-4617-8043-7576fcf077c2"
   },
   "outputs": [],
   "source": [
    "right_actions_pred_flat = right_model_flat.predict(mocap_features)\n",
    "right_actions_pred_flat"
   ]
  },
  {
   "cell_type": "code",
   "execution_count": null,
   "metadata": {
    "colab": {
     "base_uri": "https://localhost:8080/",
     "height": 34
    },
    "colab_type": "code",
    "id": "MXgE4DRySq9f",
    "outputId": "c6406ddb-b915-441a-93cc-5c9772ab31dc"
   },
   "outputs": [],
   "source": [
    "print(left_actions_pred_flat.shape)\n",
    "left_actions_pred_flat_mapped = np.argmax(left_actions_pred_flat,axis=1)"
   ]
  },
  {
   "cell_type": "code",
   "execution_count": null,
   "metadata": {
    "colab": {
     "base_uri": "https://localhost:8080/",
     "height": 34
    },
    "colab_type": "code",
    "id": "XBHWeoxsSq9h",
    "outputId": "a675daf3-e7c9-4bc1-cfbb-3f019827d61b"
   },
   "outputs": [],
   "source": [
    "print(right_actions_pred_flat.shape)\n",
    "right_actions_pred_flat_mapped = np.argmax(right_actions_pred_flat,axis=1)"
   ]
  },
  {
   "cell_type": "code",
   "execution_count": null,
   "metadata": {
    "colab": {
     "base_uri": "https://localhost:8080/",
     "height": 34
    },
    "colab_type": "code",
    "id": "HbasUP-kSq9j",
    "outputId": "175e934e-0873-4e77-98df-6e4bf58de9f2"
   },
   "outputs": [],
   "source": [
    "accuracy_score(left_actions_pred_flat_mapped,la),accuracy_score(right_actions_pred_flat_mapped,ra)"
   ]
  },
  {
   "cell_type": "markdown",
   "metadata": {
    "colab_type": "text",
    "id": "IpkuiSH8rxFK"
   },
   "source": [
    "### Predict on test samples"
   ]
  },
  {
   "cell_type": "code",
   "execution_count": null,
   "metadata": {
    "colab": {
     "base_uri": "https://localhost:8080/",
     "height": 137,
     "referenced_widgets": [
      "2e67aba733a34bf3bc2808bed6f7a4a4",
      "f014dc85ec2b4feb9a8b8be44e145631",
      "99784a52edaa4d189da5a8f94a565ffd"
     ]
    },
    "colab_type": "code",
    "id": "PiNwZx2BO8tL",
    "outputId": "edfedac8-9dc5-4ef1-bc1a-72681606a066"
   },
   "outputs": [],
   "source": [
    "mocap_features_3d_test,lengths_mocap_test,mocap_features_test,mocap_df_test    = load_test_data_mocap()"
   ]
  },
  {
   "cell_type": "code",
   "execution_count": null,
   "metadata": {
    "colab": {
     "base_uri": "https://localhost:8080/",
     "height": 34
    },
    "colab_type": "code",
    "id": "yYhh6uS7TSmI",
    "outputId": "21783335-e58f-46f4-d643-e67a3aadcc01"
   },
   "outputs": [],
   "source": [
    "mocap_features_test.shape"
   ]
  },
  {
   "cell_type": "code",
   "execution_count": null,
   "metadata": {
    "colab": {
     "base_uri": "https://localhost:8080/",
     "height": 238
    },
    "colab_type": "code",
    "id": "WBHxTcNiUYjI",
    "outputId": "5b3428e7-3e6e-42d1-969a-ed1957932815"
   },
   "outputs": [],
   "source": [
    "left_actions_pred_test_mocap = left_model_flat.predict(mocap_features_test)\n",
    "left_actions_pred_test_mocap"
   ]
  },
  {
   "cell_type": "code",
   "execution_count": null,
   "metadata": {
    "colab": {
     "base_uri": "https://localhost:8080/",
     "height": 238
    },
    "colab_type": "code",
    "id": "_Z5wyABRUYjN",
    "outputId": "3765ebc6-74bf-4481-f45b-cd81c3408918"
   },
   "outputs": [],
   "source": [
    "right_actions_pred_test_mocap = right_model_flat.predict(mocap_features_test)\n",
    "right_actions_pred_test_mocap"
   ]
  },
  {
   "cell_type": "code",
   "execution_count": null,
   "metadata": {
    "colab": {
     "base_uri": "https://localhost:8080/",
     "height": 34
    },
    "colab_type": "code",
    "id": "A5N8Mz1DUYjP",
    "outputId": "026041f2-ec26-45ff-e2ee-fdc7bb1300c5"
   },
   "outputs": [],
   "source": [
    "left_actions_pred_mapped_test_mocap_flat = np.argmax(left_actions_pred_test_mocap,axis=1)\n",
    "right_actions_pred_mapped_test_mocap_flat = np.argmax(right_actions_pred_test_mocap,axis=1)\n",
    "left_actions_pred_mapped_test_mocap_flat,right_actions_pred_mapped_test_mocap_flat"
   ]
  },
  {
   "cell_type": "markdown",
   "metadata": {
    "colab_type": "text",
    "id": "H2aLBL8Zr3nr"
   },
   "source": [
    "### Parse predictions into output format"
   ]
  },
  {
   "cell_type": "code",
   "execution_count": null,
   "metadata": {
    "colab": {},
    "colab_type": "code",
    "id": "u0-kLoPwXRo-"
   },
   "outputs": [],
   "source": [
    "subjects = []\n",
    "for i in range(len(lengths_mocap_test)):\n",
    "    subjects += [\"s06t0\"+str(i+1)]*lengths_mocap_test[i]"
   ]
  },
  {
   "cell_type": "code",
   "execution_count": null,
   "metadata": {
    "colab": {},
    "colab_type": "code",
    "id": "bRtKp4L1UYjR"
   },
   "outputs": [],
   "source": [
    "final_result = np.vstack((np.array(subjects),np.array(mocap_df_test['ts']),np.vectorize(inverted_label_mapping_left.get)(left_actions_pred_mapped_test_mocap_flat),np.vectorize(inverted_label_mapping_right.get)(right_actions_pred_mapped_test_mocap_flat)))\n",
    "final_result = final_result.T"
   ]
  },
  {
   "cell_type": "code",
   "execution_count": null,
   "metadata": {
    "colab": {
     "base_uri": "https://localhost:8080/",
     "height": 34
    },
    "colab_type": "code",
    "id": "k2rcCDPCUYjT",
    "outputId": "cbe3e4c7-d70b-49c1-964e-188863c02411"
   },
   "outputs": [],
   "source": [
    "final_result.shape"
   ]
  },
  {
   "cell_type": "code",
   "execution_count": null,
   "metadata": {
    "colab": {},
    "colab_type": "code",
    "id": "iJ6ZRyQpcWEh"
   },
   "outputs": [],
   "source": [
    "final_result_right = []\n",
    "final_result_left = []\n",
    "templ = final_result[0]\n",
    "tempr = final_result[0]\n",
    "start_timel = 0\n",
    "start_timer = 0\n",
    "final_seconds = 0\n",
    "for row in final_result:\n",
    "    if row[2] != templ[2] or row[0] != templ[0]:\n",
    "        end_timel = float(row[1]) if row[0] == templ[0] else final_seconds\n",
    "        to_appendl = [templ[0]+\".la\", start_timel, end_timel, templ[2]]\n",
    "        final_result_left.append(to_appendl)\n",
    "        start_timel = end_timel\n",
    "        templ = row\n",
    "    if row[3] != tempr[3] or row[0] != tempr[0]:\n",
    "        end_timer = float(row[1]) if row[0] == tempr[0] else final_seconds\n",
    "        to_appendr = [tempr[0]+\".ra\", start_timer, end_timer, tempr[3]]\n",
    "        final_result_right.append(to_appendr)\n",
    "        start_timer = end_timer\n",
    "        tempr = row\n",
    "    final_seconds = float(row[1])"
   ]
  },
  {
   "cell_type": "code",
   "execution_count": null,
   "metadata": {
    "colab": {
     "base_uri": "https://localhost:8080/",
     "height": 255
    },
    "colab_type": "code",
    "id": "-gtsHkWZaHL-",
    "outputId": "c21e02a3-985b-4738-ab2a-66313ebf9850"
   },
   "outputs": [],
   "source": [
    "final_result,final_result_right[-2:],len(final_result_right),len(final_result_left)"
   ]
  },
  {
   "cell_type": "code",
   "execution_count": null,
   "metadata": {
    "colab": {
     "base_uri": "https://localhost:8080/",
     "height": 34
    },
    "colab_type": "code",
    "id": "IYfPYEE6eXgA",
    "outputId": "daabf242-941e-4ead-c42d-65b30c05c0f3"
   },
   "outputs": [],
   "source": [
    "final_result_truncated = np.vstack([np.array(final_result_left),np.array(final_result_right)])\n",
    "final_result_truncated.shape"
   ]
  },
  {
   "cell_type": "code",
   "execution_count": null,
   "metadata": {
    "colab": {},
    "colab_type": "code",
    "id": "4ZDG0es7Sp8s"
   },
   "outputs": [],
   "source": [
    "df = pd.DataFrame(final_result_truncated,columns=[\"subject\",\"start\",\"end\",\"action\"])\n",
    "df.to_csv(project_dir+\"final_predictions_flat.csv\")"
   ]
  },
  {
   "cell_type": "markdown",
   "metadata": {
    "colab_type": "text",
    "id": "SeE4yIxykqdx"
   },
   "source": [
    "# MoCap + EMG"
   ]
  },
  {
   "cell_type": "code",
   "execution_count": null,
   "metadata": {
    "colab": {
     "base_uri": "https://localhost:8080/",
     "height": 34
    },
    "colab_type": "code",
    "id": "EDMspw6Aoiir",
    "outputId": "82037e4f-a0a4-4782-d2af-4edd01258246"
   },
   "outputs": [],
   "source": [
    "mocap_features.shape, emg_features.shape"
   ]
  },
  {
   "cell_type": "markdown",
   "metadata": {
    "colab_type": "text",
    "id": "dyWfAo_ik1HA"
   },
   "source": [
    "### Method 1: Combine Feature Vectors"
   ]
  },
  {
   "cell_type": "code",
   "execution_count": null,
   "metadata": {
    "colab": {},
    "colab_type": "code",
    "id": "cteuqf-IlHFy"
   },
   "outputs": [],
   "source": [
    "quartized_emg_features = []\n",
    "start_index = 0\n",
    "for i in range(1,(emg_features.shape[0]//4)+1):\n",
    "    end_index = i * 4\n",
    "    if i == (emg_features.shape[0]//4):\n",
    "        end_index = emg_features.shape[0]\n",
    "    mean_value = emg_features[start_index:end_index].mean()\n",
    "    quartized_emg_features.append(mean_value)\n",
    "    start_index = end_index\n"
   ]
  },
  {
   "cell_type": "code",
   "execution_count": null,
   "metadata": {
    "colab": {
     "base_uri": "https://localhost:8080/",
     "height": 34
    },
    "colab_type": "code",
    "id": "BnhHfeI9m3K9",
    "outputId": "79c178bf-bd3d-44da-9898-0648062d44b0"
   },
   "outputs": [],
   "source": [
    "quartized_emg_features = np.array(quartized_emg_features)\n",
    "quartized_emg_features.shape"
   ]
  },
  {
   "cell_type": "code",
   "execution_count": null,
   "metadata": {
    "colab": {
     "base_uri": "https://localhost:8080/",
     "height": 34
    },
    "colab_type": "code",
    "id": "MEX-2M-3oY-R",
    "outputId": "3262ac5f-1522-4798-b99b-9e688bcbbc89"
   },
   "outputs": [],
   "source": [
    "features_together = np.append(mocap_features[:443781],quartized_emg_features,axis=1)\n",
    "features_together.shape"
   ]
  },
  {
   "cell_type": "markdown",
   "metadata": {
    "colab_type": "text",
    "id": "jBIA22vSpWEk"
   },
   "source": [
    "## Train labeling model"
   ]
  },
  {
   "cell_type": "code",
   "execution_count": null,
   "metadata": {
    "colab": {
     "base_uri": "https://localhost:8080/",
     "height": 88
    },
    "colab_type": "code",
    "id": "DdK-CD48prw-",
    "outputId": "4a168a7a-b9b9-4757-a48e-69571c830925"
   },
   "outputs": [],
   "source": [
    "features_together_3d = window_stack(features_together,stepratio=step_ratio,width=window_size)\n",
    "# features_together_3d = features_together_3d.values\n",
    "features_together_3d = np.transpose(features_together_3d, (0, 2, 1))\n",
    "features_together_3d.shape"
   ]
  },
  {
   "cell_type": "code",
   "execution_count": null,
   "metadata": {
    "colab": {},
    "colab_type": "code",
    "id": "aIOcm-5_pWEm"
   },
   "outputs": [],
   "source": [
    "la = np.array(mocap_df['la'].map(label_mapping))[:443781]\n",
    "ra = np.array(mocap_df['ra'].map(label_mapping))[:443781]"
   ]
  },
  {
   "cell_type": "code",
   "execution_count": null,
   "metadata": {
    "colab": {},
    "colab_type": "code",
    "id": "tlYezbELpWEq"
   },
   "outputs": [],
   "source": [
    "start_index = 0\n",
    "la_window = []\n",
    "ra_window = []\n",
    "for i in range(1,features_together_3d.shape[0]+2):\n",
    "    end_index = int(min([int(window_size * step_ratio * i), mocap_df.shape[0]]))\n",
    "\n",
    "    count_l = np.bincount(la[start_index:end_index])\n",
    "    count_r = np.bincount(ra[start_index:end_index])\n",
    "\n",
    "    if len(count_l):\n",
    "        la_window.append(np.argmax(count_l))\n",
    "    if len(count_r):\n",
    "        ra_window.append(np.argmax(count_r))\n",
    "    start_index = end_index\n",
    "\n",
    "la_window = np.array(la_window)\n",
    "ra_window = np.array(ra_window)"
   ]
  },
  {
   "cell_type": "code",
   "execution_count": null,
   "metadata": {
    "colab": {
     "base_uri": "https://localhost:8080/",
     "height": 34
    },
    "colab_type": "code",
    "id": "BZ8vh7WSpWEs",
    "outputId": "f6c9e8ae-917d-4049-e646-847ce2df0783"
   },
   "outputs": [],
   "source": [
    "la_window.shape, la.shape, features_together_3d.shape, window_size * step_ratio * 11842"
   ]
  },
  {
   "cell_type": "code",
   "execution_count": null,
   "metadata": {
    "colab": {
     "base_uri": "https://localhost:8080/",
     "height": 34
    },
    "colab_type": "code",
    "id": "GUO2IYjdpWEu",
    "outputId": "e69227d0-93ff-414e-d5f0-072687bedf78"
   },
   "outputs": [],
   "source": [
    "la_window = la_window[:features_together_3d.shape[0]]\n",
    "ra_window = ra_window[:features_together_3d.shape[0]]\n",
    "ra_window.shape, la_window.shape"
   ]
  },
  {
   "cell_type": "code",
   "execution_count": null,
   "metadata": {
    "colab": {},
    "colab_type": "code",
    "id": "AeRB0fhHpWEw"
   },
   "outputs": [],
   "source": [
    "la_categorical = to_categorical(la_window)\n",
    "ra_categorical = to_categorical(ra_window)\n"
   ]
  },
  {
   "cell_type": "code",
   "execution_count": null,
   "metadata": {
    "colab": {
     "base_uri": "https://localhost:8080/",
     "height": 1000
    },
    "colab_type": "code",
    "id": "SnpJX0CnqWGn",
    "outputId": "dacd4cdb-a66e-4145-83ba-bb0f9844eba9"
   },
   "outputs": [],
   "source": [
    "right_model_together = labeler(features_together_3d,ra_categorical)"
   ]
  },
  {
   "cell_type": "code",
   "execution_count": null,
   "metadata": {
    "colab": {
     "base_uri": "https://localhost:8080/",
     "height": 68
    },
    "colab_type": "code",
    "id": "jLdFc0A5qWGv",
    "outputId": "a876e5f1-7e15-480a-99e2-e9ec05005679"
   },
   "outputs": [],
   "source": [
    "left_model_together = labeler(features_together_3d,la_categorical)"
   ]
  },
  {
   "cell_type": "code",
   "execution_count": null,
   "metadata": {
    "colab": {
     "base_uri": "https://localhost:8080/",
     "height": 238
    },
    "colab_type": "code",
    "id": "ZrUyghykqWGx",
    "outputId": "3da03128-5f11-42aa-841c-98659b3d5195"
   },
   "outputs": [],
   "source": [
    "left_actions_pred = left_model_together.predict(features_together_3d)\n",
    "left_actions_pred"
   ]
  },
  {
   "cell_type": "code",
   "execution_count": null,
   "metadata": {
    "colab": {
     "base_uri": "https://localhost:8080/",
     "height": 238
    },
    "colab_type": "code",
    "id": "KtaD5ZxjqWG1",
    "outputId": "f8aa544f-bb61-4a2d-f5e8-fd3c7384fb89"
   },
   "outputs": [],
   "source": [
    "right_actions_pred = right_model_together.predict(mocap_features_3d)\n",
    "right_actions_pred"
   ]
  },
  {
   "cell_type": "markdown",
   "metadata": {
    "colab_type": "text",
    "id": "dWmV9lnd59cF"
   },
   "source": [
    "## Weight prediction based on accuracy"
   ]
  },
  {
   "cell_type": "code",
   "execution_count": null,
   "metadata": {
    "colab": {},
    "colab_type": "code",
    "id": "mr2h7PrW6nXR"
   },
   "outputs": [],
   "source": [
    "mocap_right_accuracy = 53.03\n",
    "mocap_left_accuracy = 55.68\n",
    "emg_right_accuracy = 33.21\n",
    "emg_left_accuracy = 43.2"
   ]
  },
  {
   "cell_type": "code",
   "execution_count": null,
   "metadata": {
    "colab": {
     "base_uri": "https://localhost:8080/",
     "height": 34
    },
    "colab_type": "code",
    "id": "L8OA0i2C545a",
    "outputId": "578e9a2a-c449-4967-d76b-ecd1fef43be6"
   },
   "outputs": [],
   "source": [
    "left_actions_pred.shape, left_actions_pred_emg.shape,right_actions_pred.shape, right_actions_pred_emg.shape\n"
   ]
  },
  {
   "cell_type": "code",
   "execution_count": null,
   "metadata": {
    "colab": {},
    "colab_type": "code",
    "id": "YHjkaUxs7vSL"
   },
   "outputs": [],
   "source": [
    "left_actions_pred_mocap = left_actions_pred[:-1]\n",
    "right_actions_pred_mocap = right_actions_pred[:-1]\n",
    "left_actions_pred_test_emg"
   ]
  },
  {
   "cell_type": "code",
   "execution_count": null,
   "metadata": {
    "colab": {},
    "colab_type": "code",
    "id": "T6zuceVY6RHn"
   },
   "outputs": [],
   "source": [
    "mocap_selected = 0\n",
    "emg_selected = 0\n",
    "weighted_left_mocap = left_actions_pred_mocap * mocap_left_accuracy\n",
    "weighted_right_mocap = right_actions_pred_mocap * mocap_right_accuracy\n",
    "weighted_left_emg = left_actions_pred_emg * emg_left_accuracy\n",
    "weighted_right_emg = right_actions_pred_emg * emg_right_accuracy\n"
   ]
  },
  {
   "cell_type": "code",
   "execution_count": null,
   "metadata": {
    "colab": {},
    "colab_type": "code",
    "id": "K_VJvGxjBpCD"
   },
   "outputs": [],
   "source": [
    "weighted_left = np.append(weighted_left_mocap,weighted_left_emg,axis=1)\n",
    "weighted_right = np.append(weighted_right_mocap,weighted_right_emg,axis=1)"
   ]
  },
  {
   "cell_type": "code",
   "execution_count": null,
   "metadata": {
    "colab": {},
    "colab_type": "code",
    "id": "HFjAbQTaCmVc"
   },
   "outputs": [],
   "source": [
    "prediction_left = np.argmax(weighted_left,axis=1)%6\n",
    "prediction_right = np.argmax(weighted_right,axis=1)%6"
   ]
  },
  {
   "cell_type": "code",
   "execution_count": null,
   "metadata": {
    "colab": {
     "base_uri": "https://localhost:8080/",
     "height": 34
    },
    "colab_type": "code",
    "id": "-Slruabl_b9z",
    "outputId": "f6d216d8-32e2-43d7-97b6-d5cae0c4d91f"
   },
   "outputs": [],
   "source": [
    "la_window.shape, prediction_left.shape"
   ]
  },
  {
   "cell_type": "code",
   "execution_count": null,
   "metadata": {
    "colab": {
     "base_uri": "https://localhost:8080/",
     "height": 34
    },
    "colab_type": "code",
    "id": "doa6YWdRDGgq",
    "outputId": "3a5e740c-c53a-4f96-bff7-98c0fa899df5"
   },
   "outputs": [],
   "source": [
    "np.array_equal(la_window[:-1], la_window_emg)"
   ]
  },
  {
   "cell_type": "code",
   "execution_count": null,
   "metadata": {
    "colab": {
     "base_uri": "https://localhost:8080/",
     "height": 34
    },
    "colab_type": "code",
    "id": "Hw6CXwZaqWG8",
    "outputId": "cca0bcdb-6c25-4a55-d742-6a033ad52ffe"
   },
   "outputs": [],
   "source": [
    "accuracy_score(prediction_left,la_window[:-1]),accuracy_score(prediction_right,ra_window[:-1])"
   ]
  },
  {
   "cell_type": "code",
   "execution_count": null,
   "metadata": {
    "colab": {
     "base_uri": "https://localhost:8080/",
     "height": 34
    },
    "colab_type": "code",
    "id": "lh6WZhCoqWG6",
    "outputId": "caf8e024-0a5e-4a5c-cdf5-2a11fbe57df9"
   },
   "outputs": [],
   "source": [
    "left_prediction_source = np.argmax(weighted_left,axis=1)//6\n",
    "np.unique(left_prediction_source,return_counts=True)"
   ]
  },
  {
   "cell_type": "code",
   "execution_count": null,
   "metadata": {
    "colab": {
     "base_uri": "https://localhost:8080/",
     "height": 34
    },
    "colab_type": "code",
    "id": "9GkWtqdlF_3W",
    "outputId": "5424a271-c5c5-44b1-b089-c49ee818302a"
   },
   "outputs": [],
   "source": [
    "left_actions_pred_test.shape,left_actions_pred_test_emg.shape"
   ]
  },
  {
   "cell_type": "code",
   "execution_count": null,
   "metadata": {
    "colab": {},
    "colab_type": "code",
    "id": "uBLMrxGcF89P"
   },
   "outputs": [],
   "source": [
    "left_actions_pred_test_mocap = left_actions_pred_test\n",
    "right_actions_pred_test_mocap = right_actions_pred_test\n"
   ]
  },
  {
   "cell_type": "code",
   "execution_count": null,
   "metadata": {
    "colab": {},
    "colab_type": "code",
    "id": "GVeMgY-LF89U"
   },
   "outputs": [],
   "source": [
    "mocap_selected = 0\n",
    "emg_selected = 0\n",
    "weighted_left_test_mocap = left_actions_pred_test_mocap * mocap_left_accuracy\n",
    "weighted_right_test_mocap = right_actions_pred_test_mocap * mocap_right_accuracy\n",
    "weighted_left_test_emg = left_actions_pred_test_emg * emg_left_accuracy\n",
    "weighted_right_test_emg = right_actions_pred_test_emg * emg_right_accuracy\n"
   ]
  },
  {
   "cell_type": "code",
   "execution_count": null,
   "metadata": {
    "colab": {
     "base_uri": "https://localhost:8080/",
     "height": 85
    },
    "colab_type": "code",
    "id": "Xq4Rbl-OGxd8",
    "outputId": "e80ad726-4b3e-449f-a9b9-6924d6b24eba"
   },
   "outputs": [],
   "source": [
    "print(weighted_left_test_mocap.shape)\n",
    "print(weighted_right_test_mocap.shape)\n",
    "print(weighted_left_test_emg.shape)\n",
    "print(weighted_right_test_emg.shape)"
   ]
  },
  {
   "cell_type": "code",
   "execution_count": null,
   "metadata": {
    "colab": {},
    "colab_type": "code",
    "id": "yePi9_TNF89X"
   },
   "outputs": [],
   "source": [
    "weighted_left_test = np.append(weighted_left_test_mocap,weighted_left_test_emg,axis=1)\n",
    "weighted_right_test = np.append(weighted_right_test_mocap,weighted_right_test_emg,axis=1)"
   ]
  },
  {
   "cell_type": "code",
   "execution_count": null,
   "metadata": {
    "colab": {},
    "colab_type": "code",
    "id": "jTy3B0uJF89Z"
   },
   "outputs": [],
   "source": [
    "prediction_test_left = np.argmax(weighted_left_test,axis=1)%6\n",
    "prediction_test_right = np.argmax(weighted_right_test,axis=1)%6"
   ]
  },
  {
   "cell_type": "code",
   "execution_count": null,
   "metadata": {
    "colab": {
     "base_uri": "https://localhost:8080/",
     "height": 51
    },
    "colab_type": "code",
    "id": "ob-YurH8HuFU",
    "outputId": "d3050c1f-fba7-45ca-9702-c1bee3500e53"
   },
   "outputs": [],
   "source": [
    "left_prediction_source_test = np.argmax(weighted_left_test,axis=1)//6\n",
    "print(np.unique(left_prediction_source_test,return_counts=True))\n",
    "right_prediction_source_test = np.argmax(weighted_right_test,axis=1)//6\n",
    "print(np.unique(right_prediction_source_test,return_counts=True))"
   ]
  }
 ],
 "metadata": {
  "colab": {
   "collapsed_sections": [],
   "name": "bbdc_segmentation.ipynb",
   "provenance": []
  },
  "kernelspec": {
   "display_name": "Python 3",
   "language": "python",
   "name": "python3"
  },
  "language_info": {
   "codemirror_mode": {
    "name": "ipython",
    "version": 3
   },
   "file_extension": ".py",
   "mimetype": "text/x-python",
   "name": "python",
   "nbconvert_exporter": "python",
   "pygments_lexer": "ipython3",
   "version": "3.7.4"
  },
  "widgets": {
   "application/vnd.jupyter.widget-state+json": {
    "2e67aba733a34bf3bc2808bed6f7a4a4": {
     "model_module": "@jupyter-widgets/controls",
     "model_name": "IntProgressModel",
     "state": {
      "_dom_classes": [],
      "_model_module": "@jupyter-widgets/controls",
      "_model_module_version": "1.5.0",
      "_model_name": "IntProgressModel",
      "_view_count": null,
      "_view_module": "@jupyter-widgets/controls",
      "_view_module_version": "1.5.0",
      "_view_name": "ProgressView",
      "bar_style": "",
      "description": "",
      "description_tooltip": null,
      "layout": "IPY_MODEL_f014dc85ec2b4feb9a8b8be44e145631",
      "max": 4,
      "min": 0,
      "orientation": "horizontal",
      "style": "IPY_MODEL_99784a52edaa4d189da5a8f94a565ffd",
      "value": 4
     }
    },
    "4210ea022ddc48459aa48a46ee6f6c81": {
     "model_module": "@jupyter-widgets/controls",
     "model_name": "IntProgressModel",
     "state": {
      "_dom_classes": [],
      "_model_module": "@jupyter-widgets/controls",
      "_model_module_version": "1.5.0",
      "_model_name": "IntProgressModel",
      "_view_count": null,
      "_view_module": "@jupyter-widgets/controls",
      "_view_module_version": "1.5.0",
      "_view_name": "ProgressView",
      "bar_style": "",
      "description": "",
      "description_tooltip": null,
      "layout": "IPY_MODEL_5923c86b94084a159e06c331a9e07586",
      "max": 4,
      "min": 0,
      "orientation": "horizontal",
      "style": "IPY_MODEL_ef74fee0003b48a9ab753c96745dee51",
      "value": 4
     }
    },
    "4f59d12c7bb84084beea95a05faef227": {
     "model_module": "@jupyter-widgets/controls",
     "model_name": "IntProgressModel",
     "state": {
      "_dom_classes": [],
      "_model_module": "@jupyter-widgets/controls",
      "_model_module_version": "1.5.0",
      "_model_name": "IntProgressModel",
      "_view_count": null,
      "_view_module": "@jupyter-widgets/controls",
      "_view_module_version": "1.5.0",
      "_view_name": "ProgressView",
      "bar_style": "",
      "description": "",
      "description_tooltip": null,
      "layout": "IPY_MODEL_8d028333a4a3437fafdd1a7f9a56cf98",
      "max": 19,
      "min": 0,
      "orientation": "horizontal",
      "style": "IPY_MODEL_a66533046a0346218634ae09e8c718a1",
      "value": 19
     }
    },
    "5923c86b94084a159e06c331a9e07586": {
     "model_module": "@jupyter-widgets/base",
     "model_name": "LayoutModel",
     "state": {
      "_model_module": "@jupyter-widgets/base",
      "_model_module_version": "1.2.0",
      "_model_name": "LayoutModel",
      "_view_count": null,
      "_view_module": "@jupyter-widgets/base",
      "_view_module_version": "1.2.0",
      "_view_name": "LayoutView",
      "align_content": null,
      "align_items": null,
      "align_self": null,
      "border": null,
      "bottom": null,
      "display": null,
      "flex": null,
      "flex_flow": null,
      "grid_area": null,
      "grid_auto_columns": null,
      "grid_auto_flow": null,
      "grid_auto_rows": null,
      "grid_column": null,
      "grid_gap": null,
      "grid_row": null,
      "grid_template_areas": null,
      "grid_template_columns": null,
      "grid_template_rows": null,
      "height": null,
      "justify_content": null,
      "justify_items": null,
      "left": null,
      "margin": null,
      "max_height": null,
      "max_width": null,
      "min_height": null,
      "min_width": null,
      "object_fit": null,
      "object_position": null,
      "order": null,
      "overflow": null,
      "overflow_x": null,
      "overflow_y": null,
      "padding": null,
      "right": null,
      "top": null,
      "visibility": null,
      "width": null
     }
    },
    "78bec4d7416a40fc8b7586d8111f9207": {
     "model_module": "@jupyter-widgets/base",
     "model_name": "LayoutModel",
     "state": {
      "_model_module": "@jupyter-widgets/base",
      "_model_module_version": "1.2.0",
      "_model_name": "LayoutModel",
      "_view_count": null,
      "_view_module": "@jupyter-widgets/base",
      "_view_module_version": "1.2.0",
      "_view_name": "LayoutView",
      "align_content": null,
      "align_items": null,
      "align_self": null,
      "border": null,
      "bottom": null,
      "display": null,
      "flex": null,
      "flex_flow": null,
      "grid_area": null,
      "grid_auto_columns": null,
      "grid_auto_flow": null,
      "grid_auto_rows": null,
      "grid_column": null,
      "grid_gap": null,
      "grid_row": null,
      "grid_template_areas": null,
      "grid_template_columns": null,
      "grid_template_rows": null,
      "height": null,
      "justify_content": null,
      "justify_items": null,
      "left": null,
      "margin": null,
      "max_height": null,
      "max_width": null,
      "min_height": null,
      "min_width": null,
      "object_fit": null,
      "object_position": null,
      "order": null,
      "overflow": null,
      "overflow_x": null,
      "overflow_y": null,
      "padding": null,
      "right": null,
      "top": null,
      "visibility": null,
      "width": null
     }
    },
    "8d028333a4a3437fafdd1a7f9a56cf98": {
     "model_module": "@jupyter-widgets/base",
     "model_name": "LayoutModel",
     "state": {
      "_model_module": "@jupyter-widgets/base",
      "_model_module_version": "1.2.0",
      "_model_name": "LayoutModel",
      "_view_count": null,
      "_view_module": "@jupyter-widgets/base",
      "_view_module_version": "1.2.0",
      "_view_name": "LayoutView",
      "align_content": null,
      "align_items": null,
      "align_self": null,
      "border": null,
      "bottom": null,
      "display": null,
      "flex": null,
      "flex_flow": null,
      "grid_area": null,
      "grid_auto_columns": null,
      "grid_auto_flow": null,
      "grid_auto_rows": null,
      "grid_column": null,
      "grid_gap": null,
      "grid_row": null,
      "grid_template_areas": null,
      "grid_template_columns": null,
      "grid_template_rows": null,
      "height": null,
      "justify_content": null,
      "justify_items": null,
      "left": null,
      "margin": null,
      "max_height": null,
      "max_width": null,
      "min_height": null,
      "min_width": null,
      "object_fit": null,
      "object_position": null,
      "order": null,
      "overflow": null,
      "overflow_x": null,
      "overflow_y": null,
      "padding": null,
      "right": null,
      "top": null,
      "visibility": null,
      "width": null
     }
    },
    "9565324d567545cb8e3e7dff2575532d": {
     "model_module": "@jupyter-widgets/controls",
     "model_name": "ProgressStyleModel",
     "state": {
      "_model_module": "@jupyter-widgets/controls",
      "_model_module_version": "1.5.0",
      "_model_name": "ProgressStyleModel",
      "_view_count": null,
      "_view_module": "@jupyter-widgets/base",
      "_view_module_version": "1.2.0",
      "_view_name": "StyleView",
      "bar_color": null,
      "description_width": ""
     }
    },
    "95ac5bd3a74d46d286faea50a4480b93": {
     "model_module": "@jupyter-widgets/controls",
     "model_name": "ProgressStyleModel",
     "state": {
      "_model_module": "@jupyter-widgets/controls",
      "_model_module_version": "1.5.0",
      "_model_name": "ProgressStyleModel",
      "_view_count": null,
      "_view_module": "@jupyter-widgets/base",
      "_view_module_version": "1.2.0",
      "_view_name": "StyleView",
      "bar_color": null,
      "description_width": ""
     }
    },
    "99784a52edaa4d189da5a8f94a565ffd": {
     "model_module": "@jupyter-widgets/controls",
     "model_name": "ProgressStyleModel",
     "state": {
      "_model_module": "@jupyter-widgets/controls",
      "_model_module_version": "1.5.0",
      "_model_name": "ProgressStyleModel",
      "_view_count": null,
      "_view_module": "@jupyter-widgets/base",
      "_view_module_version": "1.2.0",
      "_view_name": "StyleView",
      "bar_color": null,
      "description_width": ""
     }
    },
    "a66533046a0346218634ae09e8c718a1": {
     "model_module": "@jupyter-widgets/controls",
     "model_name": "ProgressStyleModel",
     "state": {
      "_model_module": "@jupyter-widgets/controls",
      "_model_module_version": "1.5.0",
      "_model_name": "ProgressStyleModel",
      "_view_count": null,
      "_view_module": "@jupyter-widgets/base",
      "_view_module_version": "1.2.0",
      "_view_name": "StyleView",
      "bar_color": null,
      "description_width": ""
     }
    },
    "b051d99178e54c13bb7c13eda3f2472e": {
     "model_module": "@jupyter-widgets/controls",
     "model_name": "IntProgressModel",
     "state": {
      "_dom_classes": [],
      "_model_module": "@jupyter-widgets/controls",
      "_model_module_version": "1.5.0",
      "_model_name": "IntProgressModel",
      "_view_count": null,
      "_view_module": "@jupyter-widgets/controls",
      "_view_module_version": "1.5.0",
      "_view_name": "ProgressView",
      "bar_style": "",
      "description": "",
      "description_tooltip": null,
      "layout": "IPY_MODEL_e535de293f9740369532a54c7d226e66",
      "max": 4,
      "min": 0,
      "orientation": "horizontal",
      "style": "IPY_MODEL_9565324d567545cb8e3e7dff2575532d",
      "value": 4
     }
    },
    "ba27d831288944efa6b4d0e3225acf32": {
     "model_module": "@jupyter-widgets/controls",
     "model_name": "IntProgressModel",
     "state": {
      "_dom_classes": [],
      "_model_module": "@jupyter-widgets/controls",
      "_model_module_version": "1.5.0",
      "_model_name": "IntProgressModel",
      "_view_count": null,
      "_view_module": "@jupyter-widgets/controls",
      "_view_module_version": "1.5.0",
      "_view_name": "ProgressView",
      "bar_style": "",
      "description": "",
      "description_tooltip": null,
      "layout": "IPY_MODEL_78bec4d7416a40fc8b7586d8111f9207",
      "max": 19,
      "min": 0,
      "orientation": "horizontal",
      "style": "IPY_MODEL_95ac5bd3a74d46d286faea50a4480b93",
      "value": 19
     }
    },
    "e535de293f9740369532a54c7d226e66": {
     "model_module": "@jupyter-widgets/base",
     "model_name": "LayoutModel",
     "state": {
      "_model_module": "@jupyter-widgets/base",
      "_model_module_version": "1.2.0",
      "_model_name": "LayoutModel",
      "_view_count": null,
      "_view_module": "@jupyter-widgets/base",
      "_view_module_version": "1.2.0",
      "_view_name": "LayoutView",
      "align_content": null,
      "align_items": null,
      "align_self": null,
      "border": null,
      "bottom": null,
      "display": null,
      "flex": null,
      "flex_flow": null,
      "grid_area": null,
      "grid_auto_columns": null,
      "grid_auto_flow": null,
      "grid_auto_rows": null,
      "grid_column": null,
      "grid_gap": null,
      "grid_row": null,
      "grid_template_areas": null,
      "grid_template_columns": null,
      "grid_template_rows": null,
      "height": null,
      "justify_content": null,
      "justify_items": null,
      "left": null,
      "margin": null,
      "max_height": null,
      "max_width": null,
      "min_height": null,
      "min_width": null,
      "object_fit": null,
      "object_position": null,
      "order": null,
      "overflow": null,
      "overflow_x": null,
      "overflow_y": null,
      "padding": null,
      "right": null,
      "top": null,
      "visibility": null,
      "width": null
     }
    },
    "ef74fee0003b48a9ab753c96745dee51": {
     "model_module": "@jupyter-widgets/controls",
     "model_name": "ProgressStyleModel",
     "state": {
      "_model_module": "@jupyter-widgets/controls",
      "_model_module_version": "1.5.0",
      "_model_name": "ProgressStyleModel",
      "_view_count": null,
      "_view_module": "@jupyter-widgets/base",
      "_view_module_version": "1.2.0",
      "_view_name": "StyleView",
      "bar_color": null,
      "description_width": ""
     }
    },
    "f014dc85ec2b4feb9a8b8be44e145631": {
     "model_module": "@jupyter-widgets/base",
     "model_name": "LayoutModel",
     "state": {
      "_model_module": "@jupyter-widgets/base",
      "_model_module_version": "1.2.0",
      "_model_name": "LayoutModel",
      "_view_count": null,
      "_view_module": "@jupyter-widgets/base",
      "_view_module_version": "1.2.0",
      "_view_name": "LayoutView",
      "align_content": null,
      "align_items": null,
      "align_self": null,
      "border": null,
      "bottom": null,
      "display": null,
      "flex": null,
      "flex_flow": null,
      "grid_area": null,
      "grid_auto_columns": null,
      "grid_auto_flow": null,
      "grid_auto_rows": null,
      "grid_column": null,
      "grid_gap": null,
      "grid_row": null,
      "grid_template_areas": null,
      "grid_template_columns": null,
      "grid_template_rows": null,
      "height": null,
      "justify_content": null,
      "justify_items": null,
      "left": null,
      "margin": null,
      "max_height": null,
      "max_width": null,
      "min_height": null,
      "min_width": null,
      "object_fit": null,
      "object_position": null,
      "order": null,
      "overflow": null,
      "overflow_x": null,
      "overflow_y": null,
      "padding": null,
      "right": null,
      "top": null,
      "visibility": null,
      "width": null
     }
    }
   }
  }
 },
 "nbformat": 4,
 "nbformat_minor": 1
}
